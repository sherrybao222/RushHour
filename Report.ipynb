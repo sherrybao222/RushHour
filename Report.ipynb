{
 "cells": [
  {
   "cell_type": "markdown",
   "metadata": {},
   "source": [
    "# Rush Hour Results"
   ]
  },
  {
   "cell_type": "markdown",
   "metadata": {},
   "source": [
    "## All dynamic + static MAG features --> log(humanlen)\n",
    "### Random slope & intercept LMM\n",
    "        humanlen ~ c_incycle + (0 + c_incycle | sublist)\n",
    "                  + countcycle + (0 + countcycle | sublist)\n",
    "                  + countscc + (0 + countscc | sublist)\n",
    "                  + depth + (0 + depth | sublist)\n",
    "                  + e2n + (0 + e2n | sublist)\n",
    "                  + edges + (0 + edges | sublist)\n",
    "                  + en + (0 + en | sublist)\n",
    "                  + gcluster + (0 + gcluster | sublist)\n",
    "                  + lcluster + (0 + lcluster | sublist)\n",
    "                  + maxcycle + (0 + maxcycle | sublist)\n",
    "                  + maxscc + (0 + maxscc | sublist)\n",
    "                  + ncc + (0 + ncc | sublist)\n",
    "                  + nodes + (0 + nodes | sublist)\n",
    "                  + pnc + (0 + pnc | sublist)\n",
    "                  + optlen + (0 + optlen | sublist)\n",
    "                  + avgDepthSol + (0 + avgDepthSol | sublist)\n",
    "                  + avgEdgeSol + (0 + avgEdgeSol | sublist)\n",
    "                  + avgMaxCycleSol + (0 + avgMaxCycleSol | sublist)\n",
    "                  + nodeRate + (0 + nodeRate | sublist)\n",
    "                  + (1 | sublist),"
   ]
  },
  {
   "cell_type": "markdown",
   "metadata": {},
   "source": [
    "<img style=\"float: left;\" src=\"./state_model/out_model/slope-humanlen-ellipse-CI068-puz.png\" width=\"500\">\n",
    "<img style=\"float: left;\" src=\"./state_model/out_model/slope-humanlen-ellipse-CI068-optlen.png\" width=\"550\">\n",
    "<img style=\"float: left;\" src=\"./state_model/out_model/slope-humanlen-scatter-puz.png\" width=\"500\">\n",
    "<img style=\"float: left;\" src=\"./state_model/out_model/slope-humanlen-scatter-optlen.png\" width=\"550\">"
   ]
  },
  {
   "cell_type": "markdown",
   "metadata": {},
   "source": [
    "## All dymanic MAG + optlen -> log(humanlen - optlen)\n",
    "### Random slope model\n",
    "        diflen ~ c_incycle\n",
    "                + countcycle\n",
    "                + countscc\n",
    "                + depth\n",
    "                + e2n\n",
    "                + edges\n",
    "                + en\n",
    "                + enp\n",
    "                + gcluster\n",
    "                + lcluster\n",
    "                + maxcycle\n",
    "                + maxscc\n",
    "                + ndepth\n",
    "                + ncc\n",
    "                + nodes\n",
    "                + pnc\n",
    "                + optlen\n",
    "                + avgDepthSol\n",
    "                + avgEdgeSol \n",
    "                + avgMaxCycleSol\n",
    "                + avgNodeSol \n",
    "                + avgcNodeSol \n",
    "                + avgnCycleSol \n",
    "                + backMoveSol \n",
    "                + edgeRate \n",
    "                + nodeRate \n",
    "                + unsafeSol\n",
    "                + (1 | sublist)"
   ]
  },
  {
   "cell_type": "markdown",
   "metadata": {},
   "source": [
    "<img style=\"float: left;\" src=\"./state_model/out_model/int-diflen-ellipse-CI068-puz.png\" width=\"500\">\n",
    "<img style=\"float: left;\" src=\"./state_model/out_model/int-diflen-ellipse-CI068-optlen.png\" width=\"550\">\n",
    "<img style=\"float: left;\" src=\"./state_model/out_model/int-diflen-scatter-puz.png\" width=\"500\">\n",
    "<img style=\"float: left;\" src=\"./state_model/out_model/int-diflen-scatter-optlen.png\" width=\"550\">"
   ]
  },
  {
   "cell_type": "markdown",
   "metadata": {},
   "source": [
    "## All dymanic MAG + optlen -> log(rt)\n",
    "### Random slope model\n",
    "        diflen ~ c_incycle\n",
    "                + countcycle\n",
    "                + countscc\n",
    "                + depth\n",
    "                + e2n\n",
    "                + edges\n",
    "                + en\n",
    "                + enp\n",
    "                + gcluster\n",
    "                + lcluster\n",
    "                + maxcycle\n",
    "                + maxscc\n",
    "                + ndepth\n",
    "                + ncc\n",
    "                + nodes\n",
    "                + pnc\n",
    "                + optlen\n",
    "                + avgDepthSol\n",
    "                + avgEdgeSol \n",
    "                + avgMaxCycleSol\n",
    "                + avgNodeSol \n",
    "                + avgcNodeSol \n",
    "                + avgnCycleSol \n",
    "                + backMoveSol \n",
    "                + edgeRate \n",
    "                + nodeRate \n",
    "                + unsafeSol\n",
    "                + (1 | sublist)"
   ]
  },
  {
   "cell_type": "markdown",
   "metadata": {},
   "source": [
    "<img style=\"float: left;\" src=\"./state_model/out_model/int-diflen-ellipse-CI068-puz.png\" width=\"500\">\n",
    "<img style=\"float: left;\" src=\"./state_model/out_model/int-diflen-ellipse-CI068-optlen.png\" width=\"550\">\n",
    "<img style=\"float: left;\" src=\"./state_model/out_model/int-diflen-scatter-puz.png\" width=\"500\">\n",
    "<img style=\"float: left;\" src=\"./state_model/out_model/int-diflen-scatter-optlen.png\" width=\"550\">"
   ]
  },
  {
   "cell_type": "markdown",
   "metadata": {},
   "source": [
    "## Correlation between response time and human length"
   ]
  },
  {
   "cell_type": "markdown",
   "metadata": {},
   "source": [
    "<img style=\"float: left;\" src=\"./state_model/out_model/corr_rt_humanlen.png\" width=\"500\">"
   ]
  },
  {
   "cell_type": "code",
   "execution_count": null,
   "metadata": {},
   "outputs": [],
   "source": []
  }
 ],
 "metadata": {
  "kernelspec": {
   "display_name": "Python 2",
   "language": "python",
   "name": "python2"
  },
  "language_info": {
   "codemirror_mode": {
    "name": "ipython",
    "version": 2
   },
   "file_extension": ".py",
   "mimetype": "text/x-python",
   "name": "python",
   "nbconvert_exporter": "python",
   "pygments_lexer": "ipython2",
   "version": "2.7.15"
  }
 },
 "nbformat": 4,
 "nbformat_minor": 2
}
